{
  "nbformat": 4,
  "nbformat_minor": 0,
  "metadata": {
    "colab": {
      "provenance": [],
      "authorship_tag": "ABX9TyOgiQqihfomhAjdIWB8fboY",
      "include_colab_link": true
    },
    "kernelspec": {
      "name": "python3",
      "display_name": "Python 3"
    },
    "language_info": {
      "name": "python"
    }
  },
  "cells": [
    {
      "cell_type": "markdown",
      "metadata": {
        "id": "view-in-github",
        "colab_type": "text"
      },
      "source": [
        "<a href=\"https://colab.research.google.com/github/Songheng8888/1/blob/main/Test.ipynb\" target=\"_parent\"><img src=\"https://colab.research.google.com/assets/colab-badge.svg\" alt=\"Open In Colab\"/></a>"
      ]
    },
    {
      "cell_type": "code",
      "execution_count": null,
      "metadata": {
        "id": "NQHGYaM_JUAA"
      },
      "outputs": [],
      "source": [
        "import re\n",
        "\n",
        "str 'bigger smaller taller'\n",
        "\n",
        "r1 r' ([a-z]+)er'\n",
        "\n",
        "r2 = r'\\lest'\n",
        "\n",
        "result = re.sub(r1, r2, str)\n",
        "\n",
        "print (result)\n",
        "\n",
        "biggest smallest tallest"
      ]
    }
  ]
}